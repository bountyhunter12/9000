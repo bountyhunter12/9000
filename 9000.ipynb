{
  "nbformat": 4,
  "nbformat_minor": 0,
  "metadata": {
    "colab": {
      "provenance": [],
      "authorship_tag": "ABX9TyOs3kpX8BFN/eU7SQpmQXMb",
      "include_colab_link": true
    },
    "kernelspec": {
      "name": "python3",
      "display_name": "Python 3"
    },
    "language_info": {
      "name": "python"
    }
  },
  "cells": [
    {
      "cell_type": "markdown",
      "metadata": {
        "id": "view-in-github",
        "colab_type": "text"
      },
      "source": [
        "<a href=\"https://colab.research.google.com/github/bountyhunter12/9000/blob/main/9000.ipynb\" target=\"_parent\"><img src=\"https://colab.research.google.com/assets/colab-badge.svg\" alt=\"Open In Colab\"/></a>"
      ]
    },
    {
      "cell_type": "code",
      "execution_count": null,
      "metadata": {
        "colab": {
          "base_uri": "https://localhost:8080/"
        },
        "id": "DgWPNrqPpj_o",
        "outputId": "349cf6d7-8e85-4d2c-9a98-8ba15d8051f0"
      },
      "outputs": [
        {
          "output_type": "stream",
          "name": "stdout",
          "text": [
            "\u001b[91mX\u001b[0m 0 0 0 0 0 0 0 0 0 \n",
            "0 1 0 0 0 0 0 0 0 0 \n",
            "0 0 0 0 0 0 0 0 0 0 \n",
            "0 0 0 1 0 0 0 0 0 0 \n",
            "0 0 0 0 0 0 0 0 0 0 \n",
            "0 0 0 0 0 1 0 0 0 0 \n",
            "0 0 0 0 0 0 0 0 0 0 \n",
            "0 0 0 0 0 0 0 1 0 0 \n",
            "0 0 0 0 0 0 0 0 0 0 \n",
            "0 0 0 0 0 0 0 0 0 0 \n"
          ]
        }
      ],
      "source": [
        "def show(g, x, y):\n",
        "    for i in range(len(g)):\n",
        "        for j in range(len(g[i])):\n",
        "            if i == y and j == x:\n",
        "                print('\\033[91mX\\033[0m', end=' ')\n",
        "            else:\n",
        "                print(g[i][j], end=' ')\n",
        "        print()\n",
        "\n",
        "def mv(g):\n",
        "    x, y = 0, 0\n",
        "    while True:\n",
        "        show(g, x, y)\n",
        "        m = input(\"Enter move (R for right, D for down, L for left, U for up, Q to quit): \").strip().upper()\n",
        "\n",
        "        if m == 'Q':\n",
        "            print(\"Game over.\")\n",
        "            break\n",
        "        elif m == 'R':\n",
        "            if x + 1 < len(g[y]) and g[y][x + 1] == 0:\n",
        "                x += 1\n",
        "            else:\n",
        "                print(\"Can't move right, there's an asteroid or the edge of the field!\")\n",
        "        elif m == 'D':\n",
        "            if y + 1 < len(g) and g[y + 1][x] == 0:\n",
        "                y += 1\n",
        "            else:\n",
        "                print(\"Can't move down, there's an asteroid or the edge of the field!\")\n",
        "        elif m == 'L':\n",
        "            if x - 1 >= 0 and g[y][x - 1] == 0:\n",
        "                x -= 1\n",
        "            else:\n",
        "                print(\"Can't move left, there's an asteroid or the edge of the field!\")\n",
        "        elif m == 'U':\n",
        "            if y - 1 >= 0 and g[y - 1][x] == 0:\n",
        "                y -= 1\n",
        "            else:\n",
        "                print(\"Can't move up, there's an asteroid or the edge of the field!\")\n",
        "        else:\n",
        "            print(\"Invalid move! Enter R for right, D for down, L for left, U for up, Q to quit.\")\n",
        "\n",
        "        if x == len(g[0]) - 1 and y == len(g) - 1:\n",
        "            print(\"Congratulations! You've passed through the field.\")\n",
        "            break\n",
        "\n",
        "\n",
        "a = [\n",
        "    [0, 0, 0, 0, 0, 0, 0, 0, 0, 0],\n",
        "    [0, 1, 0, 0, 0, 0, 0, 0, 0, 0],\n",
        "    [0, 0, 0, 0, 0, 0, 0, 0, 0, 0],\n",
        "    [0, 0, 0, 1, 0, 0, 0, 0, 0, 0],\n",
        "    [0, 0, 0, 0, 0, 0, 0, 0, 0, 0],\n",
        "    [0, 0, 0, 0, 0, 1, 0, 0, 0, 0],\n",
        "    [0, 0, 0, 0, 0, 0, 0, 0, 0, 0],\n",
        "    [0, 0, 0, 0, 0, 0, 0, 1, 0, 0],\n",
        "    [0, 0, 0, 0, 0, 0, 0, 0, 0, 0],\n",
        "    [0, 0, 0, 0, 0, 0, 0, 0, 0, 0]\n",
        "]\n",
        "\n",
        "mv(a)\n"
      ]
    }
  ]
}